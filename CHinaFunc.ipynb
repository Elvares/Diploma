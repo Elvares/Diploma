{
 "cells": [
  {
   "cell_type": "code",
   "execution_count": 1,
   "metadata": {},
   "outputs": [
    {
     "name": "stderr",
     "output_type": "stream",
     "text": [
      "Using TensorFlow backend.\n",
      "D:\\Anaconda3\\envs\\Tensor\\lib\\site-packages\\tensorflow\\python\\framework\\dtypes.py:526: FutureWarning: Passing (type, 1) or '1type' as a synonym of type is deprecated; in a future version of numpy, it will be understood as (type, (1,)) / '(1,)type'.\n",
      "  _np_qint8 = np.dtype([(\"qint8\", np.int8, 1)])\n",
      "D:\\Anaconda3\\envs\\Tensor\\lib\\site-packages\\tensorflow\\python\\framework\\dtypes.py:527: FutureWarning: Passing (type, 1) or '1type' as a synonym of type is deprecated; in a future version of numpy, it will be understood as (type, (1,)) / '(1,)type'.\n",
      "  _np_quint8 = np.dtype([(\"quint8\", np.uint8, 1)])\n",
      "D:\\Anaconda3\\envs\\Tensor\\lib\\site-packages\\tensorflow\\python\\framework\\dtypes.py:528: FutureWarning: Passing (type, 1) or '1type' as a synonym of type is deprecated; in a future version of numpy, it will be understood as (type, (1,)) / '(1,)type'.\n",
      "  _np_qint16 = np.dtype([(\"qint16\", np.int16, 1)])\n",
      "D:\\Anaconda3\\envs\\Tensor\\lib\\site-packages\\tensorflow\\python\\framework\\dtypes.py:529: FutureWarning: Passing (type, 1) or '1type' as a synonym of type is deprecated; in a future version of numpy, it will be understood as (type, (1,)) / '(1,)type'.\n",
      "  _np_quint16 = np.dtype([(\"quint16\", np.uint16, 1)])\n",
      "D:\\Anaconda3\\envs\\Tensor\\lib\\site-packages\\tensorflow\\python\\framework\\dtypes.py:530: FutureWarning: Passing (type, 1) or '1type' as a synonym of type is deprecated; in a future version of numpy, it will be understood as (type, (1,)) / '(1,)type'.\n",
      "  _np_qint32 = np.dtype([(\"qint32\", np.int32, 1)])\n",
      "D:\\Anaconda3\\envs\\Tensor\\lib\\site-packages\\tensorflow\\python\\framework\\dtypes.py:535: FutureWarning: Passing (type, 1) or '1type' as a synonym of type is deprecated; in a future version of numpy, it will be understood as (type, (1,)) / '(1,)type'.\n",
      "  np_resource = np.dtype([(\"resource\", np.ubyte, 1)])\n"
     ]
    }
   ],
   "source": [
    "import keras\n",
    "import numpy as np\n",
    "import pandas as pd\n",
    "import matplotlib.pyplot as plt\n",
    "from sklearn.metrics import f1_score,accuracy_score"
   ]
  },
  {
   "cell_type": "code",
   "execution_count": 2,
   "metadata": {},
   "outputs": [],
   "source": [
    "def func(x,A,T1,T2):\n",
    "    return A*(np.exp(-x/T1) - np.exp(-x/T2))"
   ]
  },
  {
   "cell_type": "code",
   "execution_count": 3,
   "metadata": {},
   "outputs": [],
   "source": [
    "def create_signals(num_samples,scale = 0,amp = 3000):\n",
    "    size = 1024\n",
    "    val_x = np.arange(1024)\n",
    "    labels_signal = []\n",
    "    signals = []\n",
    "    for i in range(num_samples):\n",
    "        if i%1000==0:\n",
    "            print(i)\n",
    "        A = np.random.randint(1,amp)\n",
    "        T1 = np.random.randint(3,30)\n",
    "        T2 = 2\n",
    "        stride = np.random.randint(100,900)\n",
    "        y = np.zeros(size)\n",
    "        \n",
    "        y[stride:] = func(val_x[:size-stride],A,T1,T2)\n",
    "        y[:stride] = func(val_x[size-stride:],A,T1,T2)\n",
    "        \n",
    "        y = [np.abs(i + np.random.normal(scale=scale)+scale) for i in y]\n",
    "        signals.append(y)\n",
    "        labels_signal.append(1)\n",
    "    \n",
    "    for i in range(num_samples):        \n",
    "        y = np.zeros(size)                \n",
    "        y = [np.abs(np.random.normal(scale=scale)+scale) for _ in range(size)]\n",
    "        signals.append(y)\n",
    "        labels_signal.append(0)\n",
    "    \n",
    "    data = pd.DataFrame(signals)\n",
    "    data['labels'] = labels_signal\n",
    "    return data"
   ]
  },
  {
   "cell_type": "code",
   "execution_count": 4,
   "metadata": {},
   "outputs": [],
   "source": [
    "num = 500\n",
    "data = create_signals(num,scale = 1/100, amp = 1)\n",
    "for amp in range(5,1005,10):\n",
    "    data1 = create_signals(num,scale = amp/100, amp = amp)\n",
    "    data  = data.merge(data1,how = 'outer')\n",
    "data = data.sample(frac = 1).reset_index(drop=True)\n",
    "#data = pd.read_csv(\"Signals.csv\")"
   ]
  },
  {
   "cell_type": "code",
   "execution_count": 5,
   "metadata": {},
   "outputs": [
    {
     "data": {
      "text/plain": [
       "(101000, 1025)"
      ]
     },
     "execution_count": 5,
     "metadata": {},
     "output_type": "execute_result"
    }
   ],
   "source": [
    "data.shape"
   ]
  },
  {
   "cell_type": "code",
   "execution_count": 9,
   "metadata": {},
   "outputs": [],
   "source": [
    "size = 1024\n",
    "input_layer = keras.layers.Input(shape = (None,size), name = 'Input_Signal')\n",
    "x = keras.layers.LSTM(1024,return_sequences=True, name = 'LSTM_1',activation='relu')(input_layer)\n",
    "x = keras.layers.LSTM(1024,return_sequences=True, name = 'LSTM_2',activation='relu')(x)\n",
    "x = keras.layers.LSTM(1024,return_sequences=True, name = 'LSTM_3',activation='relu')(x)\n",
    "x = keras.layers.LSTM(1024, name = 'LSTM_4',activation='relu')(x)        \n",
    "output_layer = keras.layers.Dense(1,activation = 'sigmoid', name = 'Output_Answer')(x)\n",
    "model = keras.models.Model(input_layer,output_layer)\n",
    "model.compile(loss = keras.losses.binary_crossentropy,\n",
    "              optimizer = keras.optimizers.RMSprop(),\n",
    "              metrics = ['acc'])"
   ]
  },
  {
   "cell_type": "code",
   "execution_count": 10,
   "metadata": {},
   "outputs": [],
   "source": [
    "X_train = data.iloc[:int(data.shape[0]*0.8),:-1]\n",
    "y_train = data.iloc[:int(data.shape[0]*0.8),-1:]['labels']\n",
    "\n",
    "X_test = data.iloc[int(data.shape[0]*0.8):,:-1]\n",
    "y_test = data.iloc[int(data.shape[0]*0.8):,-1:]['labels']\n",
    "\n",
    "X_train = np.array(X_train)\n",
    "X_test = np.array(X_test)\n",
    "\n",
    "X_train_mn = X_train/np.array(data.iloc[:,:-1]).max()\n",
    "\n",
    "X_test_mn = X_test/np.array(data.iloc[:,:-1]).max()\n",
    "\n",
    "X_train_mn = X_train_mn.reshape(X_train_mn.shape[0],1,X_train_mn.shape[1])\n",
    "X_test_mn = X_test_mn.reshape(X_test_mn.shape[0],1,X_test_mn.shape[1])\n",
    "\n",
    "X_train = X_train.reshape(X_train.shape[0],1,X_train.shape[1])\n",
    "X_test = X_test.reshape(X_test.shape[0],1,X_test.shape[1])"
   ]
  },
  {
   "cell_type": "code",
   "execution_count": 11,
   "metadata": {},
   "outputs": [
    {
     "name": "stdout",
     "output_type": "stream",
     "text": [
      "Train on 64640 samples, validate on 16160 samples\n",
      "Epoch 1/100\n",
      "64640/64640 [==============================] - 182s 3ms/step - loss: 0.4189 - acc: 0.7916 - val_loss: 0.3671 - val_acc: 0.8326\n",
      "Epoch 2/100\n",
      "64640/64640 [==============================] - 151s 2ms/step - loss: 0.3050 - acc: 0.8767 - val_loss: 0.2499 - val_acc: 0.8978\n",
      "Epoch 3/100\n",
      "64640/64640 [==============================] - 151s 2ms/step - loss: 0.2736 - acc: 0.8938 - val_loss: 0.2060 - val_acc: 0.9363\n",
      "Epoch 4/100\n",
      "64640/64640 [==============================] - 151s 2ms/step - loss: 0.2547 - acc: 0.9048 - val_loss: 0.2263 - val_acc: 0.9139\n",
      "Epoch 5/100\n",
      "64640/64640 [==============================] - 151s 2ms/step - loss: 0.2427 - acc: 0.9116 - val_loss: 0.2467 - val_acc: 0.9058\n",
      "Epoch 6/100\n",
      "64640/64640 [==============================] - 150s 2ms/step - loss: 0.2309 - acc: 0.9157 - val_loss: 0.4466 - val_acc: 0.7815\n",
      "Epoch 7/100\n",
      "64640/64640 [==============================] - 151s 2ms/step - loss: 0.2279 - acc: 0.9195 - val_loss: 0.2166 - val_acc: 0.9168\n",
      "Epoch 8/100\n",
      "64640/64640 [==============================] - 151s 2ms/step - loss: 0.2153 - acc: 0.9217 - val_loss: 0.2337 - val_acc: 0.9174\n",
      "Epoch 9/100\n",
      "64640/64640 [==============================] - 151s 2ms/step - loss: 0.2098 - acc: 0.9258 - val_loss: 0.1878 - val_acc: 0.9344\n",
      "Epoch 10/100\n",
      "64640/64640 [==============================] - 151s 2ms/step - loss: 0.1905 - acc: 0.9336 - val_loss: 0.2189 - val_acc: 0.9223\n",
      "Epoch 11/100\n",
      "64640/64640 [==============================] - 151s 2ms/step - loss: 0.1900 - acc: 0.9342 - val_loss: 0.4146 - val_acc: 0.7581\n",
      "Epoch 12/100\n",
      "64640/64640 [==============================] - 151s 2ms/step - loss: 0.1793 - acc: 0.9385 - val_loss: 0.2637 - val_acc: 0.9156\n",
      "Epoch 13/100\n",
      "64640/64640 [==============================] - 151s 2ms/step - loss: 0.1795 - acc: 0.9388 - val_loss: 0.1678 - val_acc: 0.9427\n",
      "Epoch 14/100\n",
      "64640/64640 [==============================] - 151s 2ms/step - loss: 0.1678 - acc: 0.9437 - val_loss: 0.1427 - val_acc: 0.9524\n",
      "Epoch 15/100\n",
      "64640/64640 [==============================] - 151s 2ms/step - loss: 0.1694 - acc: 0.9436 - val_loss: 0.2120 - val_acc: 0.9241\n",
      "Epoch 16/100\n",
      "64640/64640 [==============================] - 151s 2ms/step - loss: 0.1660 - acc: 0.9446 - val_loss: 0.1698 - val_acc: 0.9432\n",
      "Epoch 17/100\n",
      "64640/64640 [==============================] - 151s 2ms/step - loss: 0.1540 - acc: 0.9488 - val_loss: 0.1554 - val_acc: 0.9511\n",
      "Epoch 18/100\n",
      "64640/64640 [==============================] - 152s 2ms/step - loss: 0.1527 - acc: 0.9503 - val_loss: 0.1428 - val_acc: 0.9520\n",
      "Epoch 19/100\n",
      "64640/64640 [==============================] - 155s 2ms/step - loss: 0.1577 - acc: 0.9509 - val_loss: 0.1682 - val_acc: 0.9504\n",
      "Epoch 20/100\n",
      "64640/64640 [==============================] - 152s 2ms/step - loss: 0.1479 - acc: 0.9523 - val_loss: 0.1350 - val_acc: 0.9586\n",
      "Epoch 21/100\n",
      "64640/64640 [==============================] - 152s 2ms/step - loss: 0.1428 - acc: 0.9546 - val_loss: 0.1143 - val_acc: 0.9650\n",
      "Epoch 22/100\n",
      "64640/64640 [==============================] - 152s 2ms/step - loss: 0.1429 - acc: 0.9534 - val_loss: 0.1131 - val_acc: 0.9667\n",
      "Epoch 23/100\n",
      "64640/64640 [==============================] - 154s 2ms/step - loss: 0.1403 - acc: 0.9543 - val_loss: 0.2514 - val_acc: 0.8947\n",
      "Epoch 24/100\n",
      "64640/64640 [==============================] - 153s 2ms/step - loss: 0.1366 - acc: 0.9570 - val_loss: 0.1581 - val_acc: 0.9480\n",
      "Epoch 25/100\n",
      "64640/64640 [==============================] - 152s 2ms/step - loss: 0.1404 - acc: 0.9555 - val_loss: 0.1378 - val_acc: 0.9562\n",
      "Epoch 26/100\n",
      "64640/64640 [==============================] - 151s 2ms/step - loss: 0.1299 - acc: 0.9591 - val_loss: 0.1985 - val_acc: 0.9382\n",
      "Epoch 27/100\n",
      "64640/64640 [==============================] - 151s 2ms/step - loss: 0.1300 - acc: 0.9600 - val_loss: 0.1322 - val_acc: 0.9560\n",
      "Epoch 28/100\n",
      "64640/64640 [==============================] - 151s 2ms/step - loss: 0.1292 - acc: 0.9595 - val_loss: 0.1512 - val_acc: 0.9524\n",
      "Epoch 29/100\n",
      "64640/64640 [==============================] - 151s 2ms/step - loss: 0.1249 - acc: 0.9606 - val_loss: 0.1201 - val_acc: 0.9600\n",
      "Epoch 30/100\n",
      "64640/64640 [==============================] - 151s 2ms/step - loss: 0.1233 - acc: 0.9619 - val_loss: 0.1319 - val_acc: 0.9553\n",
      "Epoch 31/100\n",
      "64640/64640 [==============================] - 151s 2ms/step - loss: 0.1225 - acc: 0.9628 - val_loss: 0.1178 - val_acc: 0.9655\n",
      "Epoch 32/100\n",
      "64640/64640 [==============================] - 151s 2ms/step - loss: 0.1255 - acc: 0.9604 - val_loss: 0.1174 - val_acc: 0.9588\n",
      "Epoch 33/100\n",
      "64640/64640 [==============================] - 151s 2ms/step - loss: 0.1151 - acc: 0.9645 - val_loss: 0.2737 - val_acc: 0.9022\n",
      "Epoch 34/100\n",
      "64640/64640 [==============================] - 151s 2ms/step - loss: 0.1198 - acc: 0.9625 - val_loss: 0.1212 - val_acc: 0.9605\n",
      "Epoch 35/100\n",
      "64640/64640 [==============================] - 151s 2ms/step - loss: 0.1097 - acc: 0.9662 - val_loss: 0.2228 - val_acc: 0.9362\n",
      "Epoch 36/100\n",
      "64640/64640 [==============================] - 151s 2ms/step - loss: 0.1193 - acc: 0.9636 - val_loss: 0.1535 - val_acc: 0.9425\n",
      "Epoch 37/100\n",
      "64640/64640 [==============================] - 151s 2ms/step - loss: 0.1123 - acc: 0.9651 - val_loss: 0.1741 - val_acc: 0.9479\n",
      "Epoch 38/100\n",
      "64640/64640 [==============================] - 151s 2ms/step - loss: 0.1078 - acc: 0.9675 - val_loss: 0.1670 - val_acc: 0.9494\n",
      "Epoch 39/100\n",
      "64640/64640 [==============================] - 151s 2ms/step - loss: 0.1099 - acc: 0.9659 - val_loss: 0.1649 - val_acc: 0.9506\n",
      "Epoch 40/100\n",
      "64640/64640 [==============================] - 151s 2ms/step - loss: 0.1123 - acc: 0.9674 - val_loss: 0.5310 - val_acc: 0.8002\n",
      "Epoch 41/100\n",
      "64640/64640 [==============================] - 151s 2ms/step - loss: 0.1079 - acc: 0.9671 - val_loss: 0.1232 - val_acc: 0.9649\n",
      "Epoch 42/100\n",
      "64640/64640 [==============================] - 152s 2ms/step - loss: 0.1076 - acc: 0.9660 - val_loss: 0.1316 - val_acc: 0.9553\n",
      "Epoch 43/100\n",
      "64640/64640 [==============================] - 152s 2ms/step - loss: 0.1077 - acc: 0.9677 - val_loss: 0.1089 - val_acc: 0.9680\n",
      "Epoch 44/100\n",
      "64640/64640 [==============================] - 151s 2ms/step - loss: 0.0960 - acc: 0.9713 - val_loss: 0.1111 - val_acc: 0.9653\n",
      "Epoch 45/100\n",
      "64640/64640 [==============================] - 151s 2ms/step - loss: 0.0997 - acc: 0.9699 - val_loss: 0.1316 - val_acc: 0.9641\n",
      "Epoch 46/100\n",
      "64640/64640 [==============================] - 151s 2ms/step - loss: 0.0975 - acc: 0.9707 - val_loss: 0.1528 - val_acc: 0.9572\n",
      "Epoch 47/100\n",
      "64640/64640 [==============================] - 152s 2ms/step - loss: 0.0953 - acc: 0.9714 - val_loss: 0.1088 - val_acc: 0.9681\n",
      "Epoch 48/100\n",
      "64640/64640 [==============================] - 153s 2ms/step - loss: 0.0897 - acc: 0.9729 - val_loss: 0.1357 - val_acc: 0.9611\n",
      "Epoch 49/100\n",
      "64640/64640 [==============================] - 152s 2ms/step - loss: 0.0863 - acc: 0.9737 - val_loss: 0.1355 - val_acc: 0.9616\n",
      "Epoch 50/100\n",
      "64640/64640 [==============================] - 152s 2ms/step - loss: 0.0847 - acc: 0.9743 - val_loss: 0.1196 - val_acc: 0.9641\n",
      "Epoch 51/100\n",
      "64640/64640 [==============================] - 152s 2ms/step - loss: 0.1021 - acc: 0.9711 - val_loss: 0.1370 - val_acc: 0.9485\n",
      "Epoch 52/100\n",
      "64640/64640 [==============================] - 152s 2ms/step - loss: 0.0849 - acc: 0.9744 - val_loss: 0.4937 - val_acc: 0.8204\n",
      "Epoch 53/100\n",
      "64640/64640 [==============================] - 152s 2ms/step - loss: 0.0832 - acc: 0.9750 - val_loss: 0.1139 - val_acc: 0.9674\n",
      "Epoch 54/100\n",
      "64640/64640 [==============================] - 152s 2ms/step - loss: 0.0756 - acc: 0.9772 - val_loss: 0.1481 - val_acc: 0.9568\n",
      "Epoch 55/100\n",
      "64640/64640 [==============================] - 152s 2ms/step - loss: 0.0746 - acc: 0.9777 - val_loss: 0.1426 - val_acc: 0.9621\n",
      "Epoch 56/100\n",
      "64640/64640 [==============================] - 152s 2ms/step - loss: 0.0885 - acc: 0.9767 - val_loss: 0.1713 - val_acc: 0.9623\n",
      "Epoch 57/100\n",
      "64640/64640 [==============================] - 153s 2ms/step - loss: 0.0616 - acc: 0.9819 - val_loss: 0.1997 - val_acc: 0.9565\n",
      "Epoch 58/100\n",
      "64640/64640 [==============================] - 152s 2ms/step - loss: 0.0733 - acc: 0.9778 - val_loss: 0.1207 - val_acc: 0.9686\n",
      "Epoch 59/100\n",
      "64640/64640 [==============================] - 152s 2ms/step - loss: 0.0731 - acc: 0.9771 - val_loss: 0.1106 - val_acc: 0.9675\n",
      "Epoch 60/100\n",
      "64640/64640 [==============================] - 152s 2ms/step - loss: 0.0647 - acc: 0.9806 - val_loss: 0.1400 - val_acc: 0.9636\n",
      "Epoch 61/100\n",
      "64640/64640 [==============================] - 152s 2ms/step - loss: 0.0581 - acc: 0.9822 - val_loss: 0.1258 - val_acc: 0.9707\n",
      "Epoch 62/100\n",
      "64640/64640 [==============================] - 152s 2ms/step - loss: 0.0631 - acc: 0.9808 - val_loss: 0.1973 - val_acc: 0.9270\n",
      "Epoch 63/100\n",
      "64640/64640 [==============================] - 152s 2ms/step - loss: 0.0538 - acc: 0.9837 - val_loss: 0.2869 - val_acc: 0.9420\n",
      "Epoch 64/100\n",
      "64640/64640 [==============================] - 152s 2ms/step - loss: 0.0551 - acc: 0.9833 - val_loss: 0.1209 - val_acc: 0.9678\n",
      "Epoch 65/100\n",
      "64640/64640 [==============================] - 152s 2ms/step - loss: 0.0563 - acc: 0.9841 - val_loss: 0.1703 - val_acc: 0.9425\n",
      "Epoch 66/100\n",
      "64640/64640 [==============================] - 151s 2ms/step - loss: 0.0604 - acc: 0.9810 - val_loss: 0.3293 - val_acc: 0.9079\n",
      "Epoch 67/100\n",
      "64640/64640 [==============================] - 151s 2ms/step - loss: 0.0658 - acc: 0.9791 - val_loss: 0.1202 - val_acc: 0.9707\n",
      "Epoch 68/100\n",
      "64640/64640 [==============================] - 151s 2ms/step - loss: 0.0484 - acc: 0.9849 - val_loss: 0.1266 - val_acc: 0.9650\n",
      "Epoch 69/100\n",
      "64640/64640 [==============================] - 151s 2ms/step - loss: 0.0520 - acc: 0.9838 - val_loss: 0.2873 - val_acc: 0.8836\n",
      "Epoch 70/100\n",
      "64640/64640 [==============================] - 151s 2ms/step - loss: 0.0436 - acc: 0.9867 - val_loss: 0.1825 - val_acc: 0.9659\n",
      "Epoch 71/100\n",
      "64640/64640 [==============================] - 152s 2ms/step - loss: 0.0490 - acc: 0.9853 - val_loss: 0.1805 - val_acc: 0.9293\n",
      "Epoch 72/100\n",
      "64640/64640 [==============================] - 152s 2ms/step - loss: 0.0435 - acc: 0.9865 - val_loss: 0.1226 - val_acc: 0.9696\n",
      "Epoch 73/100\n",
      "64640/64640 [==============================] - 151s 2ms/step - loss: 0.0369 - acc: 0.9883 - val_loss: 0.1378 - val_acc: 0.9705\n",
      "Epoch 74/100\n",
      "64640/64640 [==============================] - 151s 2ms/step - loss: 0.0439 - acc: 0.9865 - val_loss: 0.1332 - val_acc: 0.9662\n",
      "Epoch 75/100\n",
      "64640/64640 [==============================] - 151s 2ms/step - loss: 0.0394 - acc: 0.9879 - val_loss: 0.1413 - val_acc: 0.9684\n",
      "Epoch 76/100\n",
      "64640/64640 [==============================] - 151s 2ms/step - loss: 0.0562 - acc: 0.9858 - val_loss: 0.1401 - val_acc: 0.9652\n",
      "Epoch 77/100\n",
      "64640/64640 [==============================] - 151s 2ms/step - loss: 0.0337 - acc: 0.9891 - val_loss: 0.1320 - val_acc: 0.9687\n",
      "Epoch 78/100\n",
      "64640/64640 [==============================] - 151s 2ms/step - loss: 0.0333 - acc: 0.9894 - val_loss: 0.1438 - val_acc: 0.9636\n",
      "Epoch 79/100\n",
      "64640/64640 [==============================] - 151s 2ms/step - loss: 0.0405 - acc: 0.9869 - val_loss: 0.1323 - val_acc: 0.9687\n",
      "Epoch 80/100\n",
      "64640/64640 [==============================] - 150s 2ms/step - loss: 0.0374 - acc: 0.9893 - val_loss: 0.1632 - val_acc: 0.9507\n",
      "Epoch 81/100\n",
      "64640/64640 [==============================] - 151s 2ms/step - loss: 0.0301 - acc: 0.9905 - val_loss: 0.1636 - val_acc: 0.9684\n",
      "Epoch 82/100\n",
      "64640/64640 [==============================] - 151s 2ms/step - loss: 0.0438 - acc: 0.9882 - val_loss: 0.1425 - val_acc: 0.9586\n",
      "Epoch 83/100\n",
      "64640/64640 [==============================] - 151s 2ms/step - loss: 0.0253 - acc: 0.9917 - val_loss: 0.1732 - val_acc: 0.9712\n",
      "Epoch 84/100\n",
      "64640/64640 [==============================] - 151s 2ms/step - loss: 0.0335 - acc: 0.9889 - val_loss: 0.4062 - val_acc: 0.9599\n",
      "Epoch 85/100\n",
      "64640/64640 [==============================] - 151s 2ms/step - loss: 0.0354 - acc: 0.9892 - val_loss: 0.1602 - val_acc: 0.9684\n",
      "Epoch 86/100\n",
      "64640/64640 [==============================] - 150s 2ms/step - loss: 0.0535 - acc: 0.9876 - val_loss: 0.3831 - val_acc: 0.9603\n",
      "Epoch 87/100\n",
      "64640/64640 [==============================] - 151s 2ms/step - loss: 0.0355 - acc: 0.9893 - val_loss: 0.1696 - val_acc: 0.9690\n",
      "Epoch 88/100\n",
      "64640/64640 [==============================] - 151s 2ms/step - loss: 0.0326 - acc: 0.9913 - val_loss: 0.1919 - val_acc: 0.9683\n",
      "Epoch 89/100\n",
      "64640/64640 [==============================] - 151s 2ms/step - loss: 0.0393 - acc: 0.9894 - val_loss: 0.2907 - val_acc: 0.9203\n",
      "Epoch 90/100\n",
      "64640/64640 [==============================] - 151s 2ms/step - loss: 0.0331 - acc: 0.9906 - val_loss: 0.3416 - val_acc: 0.9332\n",
      "Epoch 91/100\n",
      "64640/64640 [==============================] - 151s 2ms/step - loss: 0.0450 - acc: 0.9877 - val_loss: 0.1944 - val_acc: 0.9712\n",
      "Epoch 92/100\n",
      "64640/64640 [==============================] - 151s 2ms/step - loss: 0.0324 - acc: 0.9905 - val_loss: 0.2724 - val_acc: 0.9333\n",
      "Epoch 93/100\n",
      "64640/64640 [==============================] - 150s 2ms/step - loss: 0.0410 - acc: 0.9890 - val_loss: 0.1845 - val_acc: 0.9705\n",
      "Epoch 94/100\n",
      "64640/64640 [==============================] - 151s 2ms/step - loss: 0.0321 - acc: 0.9909 - val_loss: 0.2621 - val_acc: 0.9485\n",
      "Epoch 95/100\n",
      "64640/64640 [==============================] - 151s 2ms/step - loss: 0.0303 - acc: 0.9911 - val_loss: 0.1575 - val_acc: 0.9556\n",
      "Epoch 96/100\n",
      "64640/64640 [==============================] - 151s 2ms/step - loss: 0.0225 - acc: 0.9935 - val_loss: 0.2335 - val_acc: 0.9692\n",
      "Epoch 97/100\n",
      "64640/64640 [==============================] - 151s 2ms/step - loss: 0.0349 - acc: 0.9899 - val_loss: 0.1820 - val_acc: 0.9636\n",
      "Epoch 98/100\n",
      "64640/64640 [==============================] - 150s 2ms/step - loss: 0.0197 - acc: 0.9936 - val_loss: 0.1902 - val_acc: 0.9697\n",
      "Epoch 99/100\n",
      "64640/64640 [==============================] - 150s 2ms/step - loss: 0.0240 - acc: 0.9933 - val_loss: 0.1587 - val_acc: 0.9696\n",
      "Epoch 100/100\n",
      "64640/64640 [==============================] - 151s 2ms/step - loss: 0.0428 - acc: 0.9886 - val_loss: 0.1962 - val_acc: 0.9700\n"
     ]
    },
    {
     "data": {
      "text/plain": [
       "0.9669924773553042"
      ]
     },
     "execution_count": 11,
     "metadata": {},
     "output_type": "execute_result"
    }
   ],
   "source": [
    "er = keras.callbacks.EarlyStopping(monitor = 'val_acc',patience=3) \n",
    "mc = keras.callbacks.ModelCheckpoint('Model.h5',monitor='val_acc',save_best_only=True)\n",
    "\n",
    "model.fit(X_train_mn,y_train,validation_split=0.2,batch_size=512,epochs = 100,callbacks=[er,mc])\n",
    "y_pred = model.predict(X_test_mn)\n",
    "y_pred = [1 if i>0.6 else 0 for i in y_pred]\n",
    "f1_score(y_test,y_pred)"
   ]
  },
  {
   "cell_type": "code",
   "execution_count": 20,
   "metadata": {},
   "outputs": [],
   "source": [
    "from keras.utils.vis_utils import plot_model\n",
    "model = keras.models.load_model(\"Model.h5\")"
   ]
  },
  {
   "cell_type": "code",
   "execution_count": 87,
   "metadata": {},
   "outputs": [
    {
     "name": "stdout",
     "output_type": "stream",
     "text": [
      "0.9818413507486461\n"
     ]
    },
    {
     "data": {
      "text/plain": [
       "0.9821875"
      ]
     },
     "execution_count": 87,
     "metadata": {},
     "output_type": "execute_result"
    }
   ],
   "source": [
    "y_pred = model.predict(X_test)\n",
    "y_pred = [1 if i>0.6 else 0 for i in y_pred]\n",
    "print(f1_score(y_test,y_pred,average = \"macro\"))\n",
    "accuracy_score(y_test,y_pred)"
   ]
  }
 ],
 "metadata": {
  "kernelspec": {
   "display_name": "Python 3",
   "language": "python",
   "name": "python3"
  },
  "language_info": {
   "codemirror_mode": {
    "name": "ipython",
    "version": 3
   },
   "file_extension": ".py",
   "mimetype": "text/x-python",
   "name": "python",
   "nbconvert_exporter": "python",
   "pygments_lexer": "ipython3",
   "version": "3.7.4"
  }
 },
 "nbformat": 4,
 "nbformat_minor": 2
}
